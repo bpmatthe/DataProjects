{
 "cells": [
  {
   "cell_type": "markdown",
   "metadata": {},
   "source": [
    "# 1\n",
    "Let's revisit the assignment in the vectorized notation. That is,\n",
    "\n",
    "* Input is a five dimentional vector  x∈ℝ<sup>5</sup>\n",
    "* Hidden layer has a three dimention with bias enabled. Activation function is ReLU.\n",
    "* Final layer outputs a scalor value with sigmoid activaiton.\n",
    "In the vectorized notation,\n",
    "\n",
    "h=ReLU(xW<sub>in</sub>+b<sub>in</sub>)\n",
    "\n",
    "o=Sigmoid(hW<sub>out</sub>+b<sub>out</sub>) \n",
    "\n",
    "where h∈ℝ<sup>3</sup>,W<sub>in</sub>∈ℝ<sup>5x3</sup>,b<sub>in</sub>∈ℝ<sup>3</sup>,W<sub>out</sub>∈ℝ<sup>3x1</sup>,  and  b<sub>out</sub>∈ℝ<sup>1</sup> \n",
    "\n",
    "Task: Implement this in tensorflow and find parameters (weights and bias) that makes the output  o=0.30 . You should use gradient descent to find the value."
   ]
  },
  {
   "cell_type": "code",
   "execution_count": 14,
   "metadata": {
    "scrolled": false
   },
   "outputs": [
    {
     "name": "stdout",
     "output_type": "stream",
     "text": [
      "W_out: [[ 0.83813018]\n",
      " [ 0.48039186]\n",
      " [ 0.03671473]] b_out: [-0.39922804] o: [[ 0.99999964]]\n"
     ]
    }
   ],
   "source": [
    "import numpy as np\n",
    "import tensorflow as tf\n",
    "# training data\n",
    "x_train = np.array([1.,2.,3.,4.,5.]).reshape(5,1).astype(\"float32\")\n",
    "\n",
    "# define computational graph\n",
    "# Model parameters\n",
    "W_in = tf.Variable(tf.random_normal([5,3]), dtype=tf.float32)\n",
    "W_out = tf.Variable(tf.random_normal([3,1]), dtype=tf.float32)\n",
    "b_in = tf.Variable(tf.random_normal([3]), dtype=tf.float32)\n",
    "b_out = tf.Variable(tf.random_normal([1]), dtype=tf.float32)\n",
    "\n",
    "# Model input and output\n",
    "lo = tf.add(tf.matmul(x_train.T,W_in),b_in)\n",
    "h = tf.nn.relu(lo)\n",
    "o = tf.sigmoid(tf.add(tf.matmul(h,W_out),b_out))\n",
    "\n",
    "x = tf.placeholder(tf.float32)\n",
    "y = tf.placeholder(tf.float32)\n",
    "\n",
    "# loss\n",
    "loss = tf.nn.l2_loss(o - y) \n",
    "\n",
    "# optimizer\n",
    "optimizer = tf.train.GradientDescentOptimizer(0.01).minimize(o)\n",
    "\n",
    "#initializer\n",
    "init = tf.global_variables_initializer()\n",
    "\n",
    "#run the graph as session\n",
    "with tf.Session() as sess:\n",
    "    sess.run(init) # reset values to wrong\n",
    "    # training loop\n",
    "    for i in range(1000):\n",
    "        sess.run(optimizer, {x:x_train, y:y_train})\n",
    "\n",
    "    # evaluate training accuracy\n",
    "    curr_W_out, curr_b_out, o = sess.run([W_out, b_out, o], {x:x_train, y:y_train})\n",
    "    print(\"W_out: %s b_out: %s o: %s\"%(curr_W_out, curr_b_out, o))"
   ]
  },
  {
   "cell_type": "markdown",
   "metadata": {},
   "source": [
    "## This implementation includes specific values for W_in, W_out, b_in, b_out. These specific values result in a value of o = 0.300"
   ]
  },
  {
   "cell_type": "code",
   "execution_count": 91,
   "metadata": {
    "scrolled": false
   },
   "outputs": [
    {
     "name": "stdout",
     "output_type": "stream",
     "text": [
      "W_out: [[ 0.00795542]\n",
      " [ 0.00795542]\n",
      " [ 0.00795542]] b_out: [-0.8472017] o: [[ 0.30002019]]\n"
     ]
    }
   ],
   "source": [
    "import numpy as np\n",
    "import tensorflow as tf\n",
    "# training data\n",
    "x_train = np.array([1.,2.,3.,4.,5.]).reshape(5,1).astype(\"float32\")\n",
    "\n",
    "# define computational graph\n",
    "# Model parameters\n",
    "W_in = tf.Variable(np.full((5, 3), 0.001), dtype=tf.float32)\n",
    "W_out = tf.Variable(np.full((3, 1), 0.01), dtype=tf.float32)\n",
    "b_in = tf.Variable(np.full((3, ),0.03), dtype=tf.float32)\n",
    "b_out = tf.Variable(np.full((1, ),1.3665), dtype=tf.float32)\n",
    "\n",
    "# Model input and output\n",
    "lo = tf.add(tf.matmul(x_train.T,W_in),b_in)\n",
    "h = tf.nn.relu(lo)\n",
    "o = tf.sigmoid(tf.add(tf.matmul(h,W_out),b_out))\n",
    "\n",
    "x = tf.placeholder(tf.float32)\n",
    "y = tf.placeholder(tf.float32)\n",
    "\n",
    "# loss\n",
    "loss = tf.nn.l2_loss(o - y) \n",
    "\n",
    "# optimizer\n",
    "optimizer = tf.train.GradientDescentOptimizer(0.01).minimize(o)\n",
    "\n",
    "#initializer\n",
    "init = tf.global_variables_initializer()\n",
    "\n",
    "#run the graph as session\n",
    "with tf.Session() as sess:\n",
    "    sess.run(init) # reset values to wrong\n",
    "    # training loop\n",
    "    for i in range(1000):\n",
    "        sess.run(optimizer, {x:x_train, y:y_train})\n",
    "\n",
    "    # evaluate training accuracy\n",
    "    curr_W_out, curr_b_out, o = sess.run([W_out, b_out, o], {x:x_train, y:y_train})\n",
    "    print(\"W_out: %s b_out: %s o: %s\"%(curr_W_out, curr_b_out, o))"
   ]
  },
  {
   "cell_type": "code",
   "execution_count": null,
   "metadata": {
    "collapsed": true
   },
   "outputs": [],
   "source": []
  }
 ],
 "metadata": {
  "kernelspec": {
   "display_name": "Python 3",
   "language": "python",
   "name": "python3"
  },
  "language_info": {
   "codemirror_mode": {
    "name": "ipython",
    "version": 3
   },
   "file_extension": ".py",
   "mimetype": "text/x-python",
   "name": "python",
   "nbconvert_exporter": "python",
   "pygments_lexer": "ipython3",
   "version": "3.6.3"
  }
 },
 "nbformat": 4,
 "nbformat_minor": 2
}
