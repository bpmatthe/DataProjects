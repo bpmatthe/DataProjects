{
 "cells": [
  {
   "cell_type": "code",
   "execution_count": 51,
   "metadata": {
    "collapsed": true
   },
   "outputs": [],
   "source": [
    "import string\n",
    "import numpy as np\n",
    "\n",
    "#settings\n",
    "window_size = 3\n",
    "text_file = 'R52.txt'\n",
    "\n",
    "#function\n",
    "def preprocess_word(word):\n",
    "    word = word.lower().strip()\n",
    "    \n",
    "    for punc in string.punctuation:\n",
    "        word = word.replace(punc,\"\")\n",
    "    return word\n",
    "\n",
    "#main\n",
    "#initialize dataset\n",
    "word_training_pairs = [] #pair is (target, context)\n",
    "\n",
    "#load text\n",
    "all_sentences = open(text_file).readlines()\n",
    "\n",
    "#extract context i.e.\n",
    "for sentence in all_sentences:\n",
    "    sentence_splitted = [preprocess_word(word) for word in sentence.split()]\n",
    "    for i, target in enumerate(sentence_splitted):\n",
    "        #print(i, target)\n",
    "        for j in range(1,4):\n",
    "            if not i+j >= len(sentence_splitted):\n",
    "                word_training_pairs.append((target, sentence_splitted[i + j]))\n",
    "            if not i-j < 0:\n",
    "                word_training_pairs.append((target, sentence_splitted[i - j]))\n",
    "                \n",
    "id2word = list(set([pair[0] for pair in word_training_pairs]))\n",
    "word2id = {w:i for i,w in enumerate(id2word)}\n",
    "\n",
    "word_training_pairs = [(word2id[pair[0]],word2id[pair[1]]) for pair in word_training_pairs]"
   ]
  },
  {
   "cell_type": "code",
   "execution_count": 52,
   "metadata": {},
   "outputs": [
    {
     "data": {
      "text/plain": [
       "22291"
      ]
     },
     "execution_count": 52,
     "metadata": {},
     "output_type": "execute_result"
    }
   ],
   "source": [
    "len(id2word)"
   ]
  },
  {
   "cell_type": "code",
   "execution_count": 3,
   "metadata": {},
   "outputs": [
    {
     "data": {
      "text/plain": [
       "'[[word2id[w] for w in s] for s in corpus]'"
      ]
     },
     "execution_count": 3,
     "metadata": {},
     "output_type": "execute_result"
    }
   ],
   "source": [
    "\"\"\"corpus = [\"I have iMac\",\"I have Macbook\"]\n",
    "corpus = [s.split() for s in corpus]\n",
    "\n",
    "word2id = {\"I\":0, \"have\":1, \"iMac\":2, \"Macbook\":3}\"\"\"\n",
    "\"\"\"[[word2id[w] for w in s] for s in corpus]\"\"\""
   ]
  },
  {
   "cell_type": "markdown",
   "metadata": {},
   "source": [
    "## word2vec code"
   ]
  },
  {
   "cell_type": "code",
   "execution_count": 53,
   "metadata": {
    "collapsed": true
   },
   "outputs": [],
   "source": [
    "import tensorflow as tf\n",
    "import numpy as np\n",
    "import sys"
   ]
  },
  {
   "cell_type": "code",
   "execution_count": 54,
   "metadata": {},
   "outputs": [
    {
     "name": "stdout",
     "output_type": "stream",
     "text": [
      "4260 7.8348060"
     ]
    }
   ],
   "source": [
    "tf.reset_default_graph()\n",
    "vocabulary_size = len(id2word)\n",
    "embedding_size = 50\n",
    "batch_size = 1024\n",
    "\n",
    "#Variables\n",
    "w_embeddings = tf.Variable(tf.random_uniform([vocabulary_size, embedding_size]))\n",
    "softmax_weights = tf.Variable(tf.random_uniform([embedding_size,vocabulary_size]))\n",
    "\n",
    "#Input\n",
    "train_pairs = tf.placeholder(tf.int32,shape = [None, 2])\n",
    "train_input = train_pairs[:,0]\n",
    "train_output = train_pairs[:,1]\n",
    "\n",
    "#Model\n",
    "w_embd = tf.nn.embedding_lookup(w_embeddings, train_input)\n",
    "prediction = tf.matmul(w_embd, softmax_weights)\n",
    "\n",
    "#loss\n",
    "loss = tf.losses.sparse_softmax_cross_entropy(train_output, prediction)\n",
    "\n",
    "#optimizer\n",
    "optimizer = tf.train.AdamOptimizer(0.01).minimize(loss)\n",
    "\n",
    "init = tf.global_variables_initializer()\n",
    "\n",
    "loss_hist = []\n",
    "iter = 0\n",
    "with tf.Session() as sess:\n",
    "    sess.run(init)\n",
    "    for i in range(0,len(word_training_pairs),batch_size):\n",
    "        batch_data = word_training_pairs[i:i+batch_size]\n",
    "        _, loss_value = sess.run([optimizer, loss], feed_dict = {train_pairs:batch_data})\n",
    "        loss_hist.append(loss_hist)\n",
    "        \n",
    "        sys.stdout.write(\"\\r%d %f\"%(iter,loss_value))\n",
    "        sys.stdout.flush()\n",
    "        iter+=1\n",
    "        \n",
    "    W=sess.run(w_embeddings)"
   ]
  },
  {
   "cell_type": "code",
   "execution_count": 61,
   "metadata": {
    "collapsed": true
   },
   "outputs": [],
   "source": [
    "np.save(\"W.npy\", W)"
   ]
  },
  {
   "cell_type": "code",
   "execution_count": 62,
   "metadata": {
    "collapsed": true
   },
   "outputs": [],
   "source": [
    "f = open(\"words.txt\", \"w\")\n",
    "for w in id2word:\n",
    "    f.write(w+\"\\n\")\n",
    "f.close()"
   ]
  },
  {
   "cell_type": "markdown",
   "metadata": {},
   "source": [
    "## 3"
   ]
  },
  {
   "cell_type": "code",
   "execution_count": 63,
   "metadata": {
    "collapsed": true
   },
   "outputs": [],
   "source": [
    "import numpy as np\n",
    "\n",
    "W = np.load(\"W.npy\")\n",
    "id2word = [w.strip() for w in open(\"words.txt\")]\n",
    "word2id = {w:i for i,w in enumerate(id2word)}"
   ]
  },
  {
   "cell_type": "code",
   "execution_count": 64,
   "metadata": {
    "collapsed": true
   },
   "outputs": [],
   "source": [
    "from sklearn.preprocessing import normalize\n",
    "W = normalize(W)"
   ]
  },
  {
   "cell_type": "code",
   "execution_count": 65,
   "metadata": {
    "collapsed": true
   },
   "outputs": [],
   "source": [
    "def print_similar_words(word,topk=10):\n",
    "    word_vec1 = W[word2id[word]]\n",
    "    \n",
    "    sim = np.dot(W,word_vec1)\n",
    "    sim_idx = np.argsort(sim)[::-1]\n",
    "    \n",
    "    for idx in sim_idx[1:topk+1]:\n",
    "        print(id2word[idx],sim[idx])"
   ]
  },
  {
   "cell_type": "code",
   "execution_count": 69,
   "metadata": {},
   "outputs": [
    {
     "name": "stdout",
     "output_type": "stream",
     "text": [
      "wall 0.561401\n",
      "department 0.467748\n",
      "sought 0.466491\n",
      "people 0.42628\n",
      "stocks 0.405273\n",
      "firms 0.403858\n",
      "loral 0.396504\n",
      "economics 0.396348\n",
      "comment 0.391773\n",
      "clayton 0.386121\n"
     ]
    }
   ],
   "source": [
    "print_similar_words(\"street\")"
   ]
  },
  {
   "cell_type": "code",
   "execution_count": null,
   "metadata": {
    "collapsed": true
   },
   "outputs": [],
   "source": []
  }
 ],
 "metadata": {
  "kernelspec": {
   "display_name": "Python 3",
   "language": "python",
   "name": "python3"
  },
  "language_info": {
   "codemirror_mode": {
    "name": "ipython",
    "version": 3
   },
   "file_extension": ".py",
   "mimetype": "text/x-python",
   "name": "python",
   "nbconvert_exporter": "python",
   "pygments_lexer": "ipython3",
   "version": "3.6.3"
  }
 },
 "nbformat": 4,
 "nbformat_minor": 2
}
