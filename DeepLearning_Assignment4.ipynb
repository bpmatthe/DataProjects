{
 "cells": [
  {
   "cell_type": "markdown",
   "metadata": {},
   "source": [
    "# Assignment 4\n",
    "\n",
    "In this assignment we will implement the following feed-forward neural network with a hidden layer: \n",
    "\n",
    "* Input is a five dimentional vector  x∈ℝ<sup>5</sup> \n",
    "* Hidden layer has a three dimention with bias enabled. Activation function is ReLU.\n",
    "* Final layer outputs a scalor value with sigmoid activaiton.\n",
    "\n",
    "In the vectorized notation,\n",
    "\n",
    "h=ReLU(xW<sub>in</sub>+b<sub>in</sub>)\n",
    "\n",
    "o=Sigmoid(hW<sub>out</sub>+b<sub>out</sub>) \n",
    "\n",
    "where  h∈ℝ<sup>3</sup>,W<sub>in</sub>∈ℝ<sup>5x3</sup>,b<sub>in</sub>∈ℝ<sup>3</sup>,W<sub>out</sub>∈ℝ<sup>3x1</sup>,  and  b<sub>out</sub>∈ℝ<sup>1</sup> \n",
    "\n",
    "## Task 1\n",
    "Implement this forwarding operation. We highly recommend you to use numpy or other matrix computation libraries. You can use random numbers for undetermined variables."
   ]
  },
  {
   "cell_type": "code",
   "execution_count": 24,
   "metadata": {
    "collapsed": true
   },
   "outputs": [],
   "source": [
    "n = 10000\n",
    "import numpy as np\n",
    "\n",
    "x = np.ones([1,5])*np.random.randn(1)\n",
    "win = np.ones([5,3])*np.random.randn(1)\n",
    "bi = np.ones([3])*np.random.randn(1)\n",
    "bo = np.ones([1])*np.random.randn(1)\n",
    "wout = np.ones([3,1])*np.random.randn(1)\n",
    "\n",
    "def relu(x):\n",
    "    return np.maximum(0, x)\n",
    "\n",
    "def f(x):\n",
    "    return 1/(1+np.exp(-x))"
   ]
  },
  {
   "cell_type": "code",
   "execution_count": 25,
   "metadata": {},
   "outputs": [
    {
     "name": "stdout",
     "output_type": "stream",
     "text": [
      "[[ 0.44184719]]\n"
     ]
    }
   ],
   "source": [
    "h = relu(x.dot(win) + bi)\n",
    "o = f(h.dot(wout) + bo)\n",
    "print(o)"
   ]
  },
  {
   "cell_type": "markdown",
   "metadata": {},
   "source": [
    "## Task 2\n",
    "Plug in the following numbers and report the output value.\n",
    "\n",
    "* x=[1,2,3,4,5] \n",
    "* All elements in  b<sub>in</sub>  and  b<sub>out</sub>  is 1.0\n",
    "* All elements in  W<sub>in</sub>  is 0.01\n",
    "* All elements in  W<sub>out</sub>  is 0.02\n",
    "\n",
    "What is the value of  o ? (Hint it should be around 0.74)"
   ]
  },
  {
   "cell_type": "code",
   "execution_count": 1,
   "metadata": {
    "collapsed": true
   },
   "outputs": [],
   "source": [
    "import numpy as np\n",
    "\n",
    "x = np.matrix([[1, 2,3,4,5]])\n",
    "win = np.ones([5,3])*0.01\n",
    "bi = np.ones([3])*1.0\n",
    "bo = np.ones([1])*1.0\n",
    "wout = np.ones([3,1])*0.02\n",
    "\n",
    "def relu(x):\n",
    "    return np.maximum(0, x)\n",
    "\n",
    "def f(x):\n",
    "    return 1/(1+np.exp(-x))"
   ]
  },
  {
   "cell_type": "code",
   "execution_count": 2,
   "metadata": {},
   "outputs": [
    {
     "name": "stdout",
     "output_type": "stream",
     "text": [
      "[[ 0.7444067]]\n"
     ]
    }
   ],
   "source": [
    "h = relu(x.dot(win) + bi)\n",
    "o = f(h.dot(wout) + bo)\n",
    "print(o)"
   ]
  },
  {
   "cell_type": "markdown",
   "metadata": {},
   "source": [
    "Mannually find parameters (weights and bias) that makes the output  0.001<o<0.4"
   ]
  },
  {
   "cell_type": "code",
   "execution_count": 111,
   "metadata": {
    "collapsed": true
   },
   "outputs": [],
   "source": [
    "n = 10000\n",
    "import numpy as np\n",
    "\n",
    "x = np.matrix([[1,2,3,4,5]])\n",
    "win = np.ones([5,3])*.00000009\n",
    "wout = np.ones([3,1])*.0000001\n",
    "bi = np.ones([3])*.00001\n",
    "bo = np.ones([1])*.00000000001\n",
    "\n",
    "def relu(x):\n",
    "    return np.maximum(0, x)\n",
    "\n",
    "def f(x):\n",
    "    return 1/(1+np.exp(-x))"
   ]
  },
  {
   "cell_type": "code",
   "execution_count": 112,
   "metadata": {},
   "outputs": [
    {
     "name": "stdout",
     "output_type": "stream",
     "text": [
      "[[ 0.5]]\n"
     ]
    }
   ],
   "source": [
    "h = relu(x.dot(win) + bi)\n",
    "o = f(h.dot(wout) + bo)\n",
    "print(o)"
   ]
  }
 ],
 "metadata": {
  "kernelspec": {
   "display_name": "Python 3",
   "language": "python",
   "name": "python3"
  },
  "language_info": {
   "codemirror_mode": {
    "name": "ipython",
    "version": 3
   },
   "file_extension": ".py",
   "mimetype": "text/x-python",
   "name": "python",
   "nbconvert_exporter": "python",
   "pygments_lexer": "ipython3",
   "version": "3.6.3"
  }
 },
 "nbformat": 4,
 "nbformat_minor": 2
}
