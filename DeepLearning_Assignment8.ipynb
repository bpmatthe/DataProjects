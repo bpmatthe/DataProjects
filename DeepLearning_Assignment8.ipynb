{
 "cells": [
  {
   "cell_type": "markdown",
   "metadata": {},
   "source": [
    "# Representation Learning Assignment\n",
    "We have learned the importance of representation. Let's try the example to understand better. Here is the code to produce the data similar to the example we used."
   ]
  },
  {
   "cell_type": "code",
   "execution_count": 30,
   "metadata": {},
   "outputs": [
    {
     "data": {
      "text/plain": [
       "<matplotlib.collections.PathCollection at 0x1a2a81dac8>"
      ]
     },
     "execution_count": 30,
     "metadata": {},
     "output_type": "execute_result"
    },
    {
     "data": {
      "image/png": "[encoded data removed]",
      "text/plain": [
       "<matplotlib.figure.Figure at 0x1100d2cc0>"
      ]
     },
     "metadata": {},
     "output_type": "display_data"
    }
   ],
   "source": [
    "import matplotlib\n",
    "import numpy as np\n",
    "import matplotlib.pyplot as plt\n",
    "import pandas as pd # data processing, CSV file I/O (e.g. pd.read_csv)\n",
    "\n",
    "%matplotlib inline  \n",
    "\n",
    "PI=np.pi\n",
    "PI2=2*PI\n",
    "\n",
    "def gencircle(rc,rr=0.1,offset=[0,0],num=100,label=0):\n",
    "    #taken from https://qiita.com/xiangze750/items/1d024c8536d128c3ceae\n",
    "    c=[]\n",
    "    for i in range(num):\n",
    "        r=rc+np.random.uniform(-rr,rr,1)\n",
    "        th=np.random.uniform(0,PI2,1)\n",
    "        c.append([r*np.sin(th)+offset[0],r*np.cos(th)+offset[1]])\n",
    "    return np.c_[np.array(c).reshape(num,2),np.repeat(label,num)]\n",
    "\n",
    "X=np.r_[gencircle(0.1,0.1,num=1000,label=0),gencircle(0.5,0.1,num=1000,label=1)][:,0:2]\n",
    "\n",
    "plt.scatter(X[0:1000,0],X[0:1000,1],color=\"red\")\n",
    "plt.scatter(X[1000:2000,0],X[1000:2000,1],color=\"blue\")"
   ]
  },
  {
   "cell_type": "code",
   "execution_count": 31,
   "metadata": {},
   "outputs": [
    {
     "data": {
      "text/plain": [
       "array([[-0.03597942, -0.01794801],\n",
       "       [ 0.11680984,  0.09680496],\n",
       "       [-0.00333146,  0.00382334],\n",
       "       ..., \n",
       "       [ 0.43523319,  0.34139888],\n",
       "       [ 0.21996141,  0.44369549],\n",
       "       [ 0.29156638,  0.38797451]])"
      ]
     },
     "execution_count": 31,
     "metadata": {},
     "output_type": "execute_result"
    }
   ],
   "source": [
    "X"
   ]
  },
  {
   "cell_type": "code",
   "execution_count": 43,
   "metadata": {},
   "outputs": [
    {
     "data": {
      "text/html": [
       "<div>\n",
       "<style>\n",
       "    .dataframe thead tr:only-child th {\n",
       "        text-align: right;\n",
       "    }\n",
       "\n",
       "    .dataframe thead th {\n",
       "        text-align: left;\n",
       "    }\n",
       "\n",
       "    .dataframe tbody tr th {\n",
       "        vertical-align: top;\n",
       "    }\n",
       "</style>\n",
       "<table border=\"1\" class=\"dataframe\">\n",
       "  <thead>\n",
       "    <tr style=\"text-align: right;\">\n",
       "      <th></th>\n",
       "      <th>0</th>\n",
       "      <th>1</th>\n",
       "    </tr>\n",
       "  </thead>\n",
       "  <tbody>\n",
       "    <tr>\n",
       "      <th>0</th>\n",
       "      <td>-0.035979</td>\n",
       "      <td>-0.017948</td>\n",
       "    </tr>\n",
       "    <tr>\n",
       "      <th>1</th>\n",
       "      <td>0.116810</td>\n",
       "      <td>0.096805</td>\n",
       "    </tr>\n",
       "    <tr>\n",
       "      <th>2</th>\n",
       "      <td>-0.003331</td>\n",
       "      <td>0.003823</td>\n",
       "    </tr>\n",
       "    <tr>\n",
       "      <th>3</th>\n",
       "      <td>-0.002850</td>\n",
       "      <td>-0.021912</td>\n",
       "    </tr>\n",
       "    <tr>\n",
       "      <th>4</th>\n",
       "      <td>-0.018157</td>\n",
       "      <td>0.063400</td>\n",
       "    </tr>\n",
       "  </tbody>\n",
       "</table>\n",
       "</div>"
      ],
      "text/plain": [
       "          0         1\n",
       "0 -0.035979 -0.017948\n",
       "1  0.116810  0.096805\n",
       "2 -0.003331  0.003823\n",
       "3 -0.002850 -0.021912\n",
       "4 -0.018157  0.063400"
      ]
     },
     "execution_count": 43,
     "metadata": {},
     "output_type": "execute_result"
    }
   ],
   "source": [
    "mydata = pd.DataFrame(X)\n",
    "mydata.head()"
   ]
  },
  {
   "cell_type": "code",
   "execution_count": 44,
   "metadata": {},
   "outputs": [],
   "source": [
    "#Red = 0, Blue = 1\n",
    "mydata['Color'] = 0\n",
    "mydata.loc[1000:2000,('Color')] = 1\n",
    "mydata.columns = ['Xcoord', 'Ycoord', 'Color']"
   ]
  },
  {
   "cell_type": "code",
   "execution_count": 45,
   "metadata": {},
   "outputs": [
    {
     "data": {
      "text/html": [
       "<div>\n",
       "<style>\n",
       "    .dataframe thead tr:only-child th {\n",
       "        text-align: right;\n",
       "    }\n",
       "\n",
       "    .dataframe thead th {\n",
       "        text-align: left;\n",
       "    }\n",
       "\n",
       "    .dataframe tbody tr th {\n",
       "        vertical-align: top;\n",
       "    }\n",
       "</style>\n",
       "<table border=\"1\" class=\"dataframe\">\n",
       "  <thead>\n",
       "    <tr style=\"text-align: right;\">\n",
       "      <th></th>\n",
       "      <th>Xcoord</th>\n",
       "      <th>Ycoord</th>\n",
       "      <th>Color</th>\n",
       "    </tr>\n",
       "  </thead>\n",
       "  <tbody>\n",
       "    <tr>\n",
       "      <th>0</th>\n",
       "      <td>-0.035979</td>\n",
       "      <td>-0.017948</td>\n",
       "      <td>0</td>\n",
       "    </tr>\n",
       "    <tr>\n",
       "      <th>1</th>\n",
       "      <td>0.116810</td>\n",
       "      <td>0.096805</td>\n",
       "      <td>0</td>\n",
       "    </tr>\n",
       "    <tr>\n",
       "      <th>2</th>\n",
       "      <td>-0.003331</td>\n",
       "      <td>0.003823</td>\n",
       "      <td>0</td>\n",
       "    </tr>\n",
       "    <tr>\n",
       "      <th>3</th>\n",
       "      <td>-0.002850</td>\n",
       "      <td>-0.021912</td>\n",
       "      <td>0</td>\n",
       "    </tr>\n",
       "    <tr>\n",
       "      <th>4</th>\n",
       "      <td>-0.018157</td>\n",
       "      <td>0.063400</td>\n",
       "      <td>0</td>\n",
       "    </tr>\n",
       "  </tbody>\n",
       "</table>\n",
       "</div>"
      ],
      "text/plain": [
       "     Xcoord    Ycoord  Color\n",
       "0 -0.035979 -0.017948      0\n",
       "1  0.116810  0.096805      0\n",
       "2 -0.003331  0.003823      0\n",
       "3 -0.002850 -0.021912      0\n",
       "4 -0.018157  0.063400      0"
      ]
     },
     "execution_count": 45,
     "metadata": {},
     "output_type": "execute_result"
    }
   ],
   "source": [
    "mydata.head()"
   ]
  },
  {
   "cell_type": "code",
   "execution_count": 46,
   "metadata": {},
   "outputs": [
    {
     "name": "stdout",
     "output_type": "stream",
     "text": [
      "[[0]\n",
      " [0]\n",
      " [0]\n",
      " ..., \n",
      " [1]\n",
      " [1]\n",
      " [1]]\n",
      "[[-0.03597942 -0.01794801]\n",
      " [ 0.11680984  0.09680496]\n",
      " [-0.00333146  0.00382334]\n",
      " ..., \n",
      " [ 0.43523319  0.34139888]\n",
      " [ 0.21996141  0.44369549]\n",
      " [ 0.29156638  0.38797451]]\n"
     ]
    }
   ],
   "source": [
    "y = mydata.drop(labels = ['Xcoord', 'Ycoord'], axis=1).values\n",
    "X = mydata.drop(labels = ['Color'], axis=1).values\n",
    "print(y)\n",
    "print(X)"
   ]
  },
  {
   "cell_type": "code",
   "execution_count": 36,
   "metadata": {},
   "outputs": [],
   "source": [
    "import tensorflow as tf\n",
    "# set seed for numpy and tensorflow\n",
    "# set for reproducible results\n",
    "seed = 5\n",
    "np.random.seed(seed)\n",
    "tf.set_random_seed(seed)"
   ]
  },
  {
   "cell_type": "markdown",
   "metadata": {},
   "source": [
    "As you see,  X  is a matrix whose shape is  2000×2  the first 1000 rows are corresponding to red points, and the second 1000 row are corresponding to the blue data points.\n",
    "\n",
    "# Task\n",
    "* Try logistic regression to classify the data. It's okay if it does not work.\n",
    "* Try feed forward neural network to classify the data. For this one, you need to find the architecture that works. Remember that you can adjust number of hidden layers and number of hidden units in each layer, activation function, etc.\n",
    "* Report the (training) classification accuracy for both.\n",
    "\n",
    "Use tensorflow for coding. This time, you do not have to test the algorithm on test dataset, because the purpose it to understand the importance of representation learning."
   ]
  },
  {
   "cell_type": "markdown",
   "metadata": {},
   "source": [
    "### 1. Logistic Regression"
   ]
  },
  {
   "cell_type": "code",
   "execution_count": 8,
   "metadata": {},
   "outputs": [],
   "source": [
    "import numpy as np # linear algebra\n",
    "import seaborn as sns\n",
    "sns.set(style='whitegrid')\n",
    "import matplotlib.pyplot as plt\n",
    "import tensorflow as tf\n",
    "# Begin building the model framework\n",
    "# Declare the variables that need to be learned and initialization\n",
    "# There is one feature, so A's dimension is (2, 1)\n",
    "A = tf.Variable(tf.random_normal(shape = [2,1]))\n",
    "b = tf.Variable(tf.random_normal(shape = [1,1]))\n",
    "init = tf.global_variables_initializer()\n",
    "sess = tf.Session()\n",
    "sess.run(init)"
   ]
  },
  {
   "cell_type": "code",
   "execution_count": 9,
   "metadata": {
    "collapsed": true
   },
   "outputs": [],
   "source": [
    "# Define placeholders\n",
    "data = tf.placeholder(dtype=tf.float32, shape=[None, 2])\n",
    "target = tf.placeholder(dtype=tf.float32, shape=[None, 1])"
   ]
  },
  {
   "cell_type": "code",
   "execution_count": 10,
   "metadata": {},
   "outputs": [],
   "source": [
    "# Declare the model you need to learn\n",
    "mod = tf.matmul(data, A) + b"
   ]
  },
  {
   "cell_type": "code",
   "execution_count": 11,
   "metadata": {},
   "outputs": [],
   "source": [
    "# Declare loss function\n",
    "# Use the sigmoid cross-entropy loss function,\n",
    "# first doing a sigmoid on the model result and then using the cross-entropy loss function\n",
    "loss = tf.reduce_mean(tf.nn.sigmoid_cross_entropy_with_logits(\n",
    "    logits=mod, labels=target))"
   ]
  },
  {
   "cell_type": "code",
   "execution_count": 12,
   "metadata": {
    "collapsed": true
   },
   "outputs": [],
   "source": [
    "# Define the learning rate， batch_size etc.\n",
    "learning_rate = 0.005\n",
    "batch_size = 400\n",
    "iter_num = 1500"
   ]
  },
  {
   "cell_type": "code",
   "execution_count": 13,
   "metadata": {},
   "outputs": [],
   "source": [
    "# Define the optimizer\n",
    "opt = tf.train.GradientDescentOptimizer(learning_rate)"
   ]
  },
  {
   "cell_type": "code",
   "execution_count": 14,
   "metadata": {},
   "outputs": [],
   "source": [
    "# Define the goal\n",
    "goal = opt.minimize(loss)"
   ]
  },
  {
   "cell_type": "code",
   "execution_count": 15,
   "metadata": {},
   "outputs": [],
   "source": [
    "# Define the accuracy\n",
    "# The default threshold is 0.5, rounded off directly\n",
    "prediction = tf.round(tf.sigmoid(mod))\n",
    "# Bool into float32 type\n",
    "correct = tf.cast(tf.equal(prediction, target), dtype=tf.float32)\n",
    "# Average\n",
    "accuracy = tf.reduce_mean(correct)\n",
    "# End of the definition of the model framework"
   ]
  },
  {
   "cell_type": "code",
   "execution_count": 16,
   "metadata": {
    "collapsed": true
   },
   "outputs": [],
   "source": [
    "# Start training model\n",
    "# Define the variable that stores the result\n",
    "loss_trace = []\n",
    "train_acc = []\n",
    "test_acc = []"
   ]
  },
  {
   "cell_type": "code",
   "execution_count": 17,
   "metadata": {},
   "outputs": [
    {
     "name": "stdout",
     "output_type": "stream",
     "text": [
      "epoch:  300 loss: 0.731460 accuracy: 0.373500 \n",
      "epoch:  600 loss: 0.721914 accuracy: 0.385500 \n",
      "epoch:  900 loss: 0.705413 accuracy: 0.402500 \n",
      "epoch: 1200 loss: 0.727532 accuracy: 0.414500 \n",
      "epoch: 1500 loss: 0.718238 accuracy: 0.419000 \n"
     ]
    }
   ],
   "source": [
    "\n",
    "# training model\n",
    "for epoch in range(iter_num):\n",
    "    # Generate random batch index\n",
    "    batch_index = np.random.choice(len(X), size=batch_size)\n",
    "    batch_X = X[batch_index]\n",
    "    batch_y = np.matrix(y[batch_index])\n",
    "    sess.run(goal, feed_dict={data: batch_X, target: batch_y})\n",
    "    temp_loss = sess.run(loss, feed_dict={data: batch_X, target: batch_y})\n",
    "    # convert into a matrix, and the shape of the placeholder to correspond\n",
    "    temp_acc = sess.run(accuracy, feed_dict={data: X, target: np.matrix(y)})\n",
    "    # recode the result\n",
    "    loss_trace.append(temp_loss)\n",
    "    train_acc.append(temp_acc)\n",
    "    # output\n",
    "    if (epoch + 1) % 300 == 0:\n",
    "        print('epoch: {:4d} loss: {:5f} accuracy: {:5f} '.format(epoch + 1, temp_loss,temp_acc))\n",
    "        \n",
    "sess.close()"
   ]
  },
  {
   "cell_type": "markdown",
   "metadata": {},
   "source": [
    "### 2. Feed Forward Neural Network"
   ]
  },
  {
   "cell_type": "code",
   "execution_count": 41,
   "metadata": {},
   "outputs": [
    {
     "name": "stdout",
     "output_type": "stream",
     "text": [
      "accuracy is  1.0\n"
     ]
    }
   ],
   "source": [
    "import tensorflow as tf\n",
    "\n",
    "# define computational graph\n",
    "# Create the model\n",
    "x = tf.placeholder(tf.float32, [None, 2])\n",
    "h = tf.layers.dense(x,50)\n",
    "y_m = tf.layers.dense(h,1)\n",
    "\n",
    "#initializer\n",
    "init = tf.global_variables_initializer()\n",
    "\n",
    "# Define loss and optimizer\n",
    "y_ = tf.placeholder(tf.int64, [None,1])\n",
    "cross_entropy = tf.losses.softmax_cross_entropy(onehot_labels=y_, logits=y_m)\n",
    "train_step = tf.train.GradientDescentOptimizer(0.1).minimize(cross_entropy)\n",
    "\n",
    "loss_log = []\n",
    "batch_size = 100\n",
    "#run the graph as session\n",
    "with tf.Session() as sess:\n",
    "    sess.run(init) # reset values to wrong\n",
    "    # training loop\n",
    "    for _ in range(1000):\n",
    "        batch_index = np.random.choice(len(X), size=batch_size)\n",
    "        batch_xs = X[batch_index]\n",
    "        batch_ys = np.matrix(y[batch_index])\n",
    "        loss,_ = sess.run([cross_entropy,train_step], feed_dict={x: batch_xs, y_: batch_ys})\n",
    "        loss_log.append(loss)\n",
    "\n",
    "    # Test trained model\n",
    "    correct_prediction = tf.equal(tf.argmax(y, 1),tf.argmax(y_,1))\n",
    "    accuracy = tf.reduce_mean(tf.cast(correct_prediction, tf.float32))\n",
    "    accuracy_result = sess.run(accuracy, feed_dict={x: X,y_: y})\n",
    "    print(\"accuracy is \",accuracy_result)"
   ]
  },
  {
   "cell_type": "code",
   "execution_count": null,
   "metadata": {
    "collapsed": true
   },
   "outputs": [],
   "source": []
  }
 ],
 "metadata": {
  "kernelspec": {
   "display_name": "Python 3",
   "language": "python",
   "name": "python3"
  },
  "language_info": {
   "codemirror_mode": {
    "name": "ipython",
    "version": 3
   },
   "file_extension": ".py",
   "mimetype": "text/x-python",
   "name": "python",
   "nbconvert_exporter": "python",
   "pygments_lexer": "ipython3",
   "version": "3.6.3"
  }
 },
 "nbformat": 4,
 "nbformat_minor": 2
}
